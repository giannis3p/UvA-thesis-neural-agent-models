{
 "cells": [
  {
   "cell_type": "markdown",
   "metadata": {},
   "source": [
    "In this notebook I tried various things: different models, different ways to form input/output pairs, data augmentation etc but non proved worthwhile"
   ]
  },
  {
   "cell_type": "markdown",
   "metadata": {},
   "source": [
    "**Imports**"
   ]
  },
  {
   "cell_type": "code",
   "execution_count": 1,
   "metadata": {},
   "outputs": [],
   "source": [
    "import tensorflow as tf\n",
    "import pandas as pd\n",
    "import numpy as np\n",
    "import os\n",
    "import csv\n",
    "import math\n",
    "import matplotlib.pyplot as plt\n",
    "from datetime import datetime\n",
    "from sklearn.preprocessing import MinMaxScaler, StandardScaler\n",
    "from sklearn.model_selection import train_test_split\n",
    "from sklearn.metrics import mean_squared_error, mean_absolute_error\n",
    "from tensorflow.keras.layers import Embedding, LSTM, Dense, Flatten, Reshape, Dropout, Conv2D\n",
    "from tensorflow.keras.models import Sequential\n",
    "from tensorflow.keras.optimizers import Adam\n",
    "from tensorflow.keras.callbacks import EarlyStopping, LearningRateScheduler\n",
    "from keras import backend as K\n",
    "from keras.constraints import MinMaxNorm\n",
    "from keras.callbacks import LearningRateScheduler, EarlyStopping\n",
    "from keras.metrics import RootMeanSquaredError\n",
    "from keras.layers import Dropout,  TimeDistributed\n",
    "from keras.regularizers import l2\n",
    "from keras.callbacks import Callback"
   ]
  },
  {
   "cell_type": "markdown",
   "metadata": {},
   "source": [
    "**CUDA**"
   ]
  },
  {
   "cell_type": "code",
   "execution_count": 2,
   "metadata": {},
   "outputs": [
    {
     "data": {
      "text/plain": [
       "True"
      ]
     },
     "execution_count": 2,
     "metadata": {},
     "output_type": "execute_result"
    }
   ],
   "source": [
    "len(tf.config.list_physical_devices('GPU'))>0"
   ]
  },
  {
   "cell_type": "code",
   "execution_count": 5,
   "metadata": {},
   "outputs": [
    {
     "name": "stdout",
     "output_type": "stream",
     "text": [
      "Concatenated and sorted file saved to data/final_run 250x250\\concatenated_sorted.txt\n"
     ]
    }
   ],
   "source": [
    "folder_path = 'data/final_run 250x250'\n",
    "\n",
    "# List to store each DataFrame\n",
    "df_list = []\n",
    "\n",
    "# Loop through all files in the folder\n",
    "for filename in os.listdir(folder_path):\n",
    "    if filename.endswith('.txt'):\n",
    "        # Read each file into a DataFrame and append to the list\n",
    "        file_path = os.path.join(folder_path, filename)\n",
    "        try:\n",
    "            df = pd.read_csv(file_path, delimiter=',')\n",
    "            if 'mcsteps' in df.columns:\n",
    "                df_list.append(df)\n",
    "            else:\n",
    "                print(f\"Column 'mcsteps' not found in file: {file_path}\")\n",
    "        except Exception as e:\n",
    "            print(f\"Error reading file {file_path}: {e}\")\n",
    "\n",
    "# Check if we have any DataFrames to concatenate\n",
    "if df_list:\n",
    "    # Concatenate all DataFrames\n",
    "    concatenated_df = pd.concat(df_list, ignore_index=True)\n",
    "\n",
    "    # Sort by the 'mcsteps' column\n",
    "    sorted_df = concatenated_df.sort_values(by='mcsteps')\n",
    "\n",
    "    # Save the sorted DataFrame to a new .txt file\n",
    "    output_path = os.path.join(folder_path, 'concatenated_sorted.txt')\n",
    "    sorted_df.to_csv(output_path, sep=',', index=False)\n",
    "\n",
    "    print(f\"Concatenated and sorted file saved to {output_path}\")\n",
    "else:\n",
    "    print(\"No valid DataFrames to concatenate.\")"
   ]
  },
  {
   "cell_type": "code",
   "execution_count": 7,
   "metadata": {},
   "outputs": [
    {
     "name": "stdout",
     "output_type": "stream",
     "text": [
      "File converted and saved as data/final run concat 250x250.csv\n"
     ]
    }
   ],
   "source": [
    "# Define the input and output file paths\n",
    "input_file_path = 'data/final_run 250x250/concatenated_sorted.txt'\n",
    "output_file_path = 'data/final run concat 250x250.csv'\n",
    "\n",
    "# Read the .txt file into a pandas DataFrame\n",
    "df = pd.read_csv(input_file_path, delimiter=',')\n",
    "\n",
    "# Save the DataFrame to a .csv file\n",
    "df.to_csv(output_file_path, index=False)\n",
    "\n",
    "print(f\"File converted and saved as {output_file_path}\")"
   ]
  },
  {
   "cell_type": "markdown",
   "metadata": {},
   "source": [
    "**Convert .txt to .csv**"
   ]
  },
  {
   "cell_type": "code",
   "execution_count": null,
   "metadata": {},
   "outputs": [],
   "source": [
    "input_folder = \"C:/Users/Giannis/Documents/uva-thesis/data/conc_txt_test\"\n",
    "output_folder = \"C:/Users/Giannis/Documents/uva-thesis/data/test_data\"\n",
    "\n",
    "# create output folder if it doesn't exist\n",
    "if not os.path.exists(output_folder):\n",
    "    os.makedirs(output_folder)\n",
    "\n",
    "# iterate through files in input folder\n",
    "for filename in os.listdir(input_folder):\n",
    "    if filename.endswith(\".txt\"):\n",
    "        try:\n",
    "            # construct input and output file paths\n",
    "            input_filepath = os.path.join(input_folder, filename)\n",
    "            output_filepath = os.path.join(output_folder, os.path.splitext(filename)[0] + \".csv\")\n",
    "\n",
    "            # read txt file and remove leading and trailing quotation marks from each line\n",
    "            with open(input_filepath, 'r') as file:\n",
    "                lines = [line.strip().strip('\"') for line in file.readlines()]\n",
    "\n",
    "            # remove every other line (gap lines)\n",
    "            lines = [line for index, line in enumerate(lines) if index % 2 == 0]\n",
    "\n",
    "            # check if all lines have the same number of elements\n",
    "            num_elements = len(lines[0].split(','))\n",
    "            if all(len(line.split(',')) == num_elements for line in lines):\n",
    "                # convert to df and save as csv\n",
    "                df = pd.DataFrame([line.split(',') for line in lines])\n",
    "                df.to_csv(output_filepath, index=False, header=False, quoting=csv.QUOTE_NONE, escapechar=' ')\n",
    "                print(f\"Converted {input_filepath} to {output_filepath}\")\n",
    "            else:\n",
    "                print(f\"Skipping {input_filepath}: Inconsistent number of elements in lines\")\n",
    "        except Exception as e:\n",
    "            print(f\"Error converting {input_filepath}: {e}\")"
   ]
  },
  {
   "cell_type": "markdown",
   "metadata": {},
   "source": [
    "**Concat the cytokines data to create the 'test_data_concat' folder**"
   ]
  },
  {
   "cell_type": "code",
   "execution_count": 3,
   "metadata": {},
   "outputs": [
    {
     "name": "stdout",
     "output_type": "stream",
     "text": [
      "Sorted and concatenated data saved to: C:/Users/Giannis/Documents/uva-thesis/data/test_data_concat\\sorted_concatenated_data.csv\n"
     ]
    }
   ],
   "source": [
    "base_cytokine_folder = \"C:/Users/Giannis/Documents/uva-thesis/data/test_data\"\n",
    "output_folder = \"C:/Users/Giannis/Documents/uva-thesis/data/test_data_concat\"\n",
    "\n",
    "def concat_files_in_folder(folder_path):\n",
    "    test_data_concat = pd.DataFrame()\n",
    "    for filename in os.listdir(folder_path):\n",
    "        if filename.endswith('.csv'):\n",
    "            file_path = os.path.join(folder_path, filename)\n",
    "            df = pd.read_csv(file_path)\n",
    "            test_data_concat = pd.concat([test_data_concat, df])\n",
    "    return test_data_concat\n",
    "\n",
    "def sort_by_mcsteps(data):\n",
    "    return data.sort_values(by='mcsteps')\n",
    "\n",
    "concatenated_data = concat_files_in_folder(base_cytokine_folder)\n",
    "\n",
    "sorted_data = sort_by_mcsteps(concatenated_data)\n",
    "\n",
    "output_filepath = os.path.join(output_folder, \"sorted_concatenated_data.csv\")\n",
    "sorted_data.to_csv(output_filepath, index=False)\n",
    "print(f\"Sorted and concatenated data saved to: {output_filepath}\")"
   ]
  },
  {
   "cell_type": "markdown",
   "metadata": {},
   "source": [
    "**Load data for test_data_concat and drop zCOM**"
   ]
  },
  {
   "cell_type": "code",
   "execution_count": 229,
   "metadata": {},
   "outputs": [
    {
     "name": "stdout",
     "output_type": "stream",
     "text": [
      "   mcsteps  xCOM  yCOM           il8  il1  il6  il10  tnf  tgf\n",
      "0        0    33    22  3.750408e-07  0.0  0.0   0.0  0.0  0.0\n",
      "1        0    11    32  4.793328e-09  0.0  0.0   0.0  0.0  0.0\n",
      "2        0    30    35  8.997935e-09  0.0  0.0   0.0  0.0  0.0\n",
      "3        0    17    40  1.781103e-08  0.0  0.0   0.0  0.0  0.0\n",
      "4        0    21    23  4.789621e-09  0.0  0.0   0.0  0.0  0.0\n"
     ]
    }
   ],
   "source": [
    "sorted_concatenated_csv = \"C:/Users/Giannis/Documents/uva-thesis/data/test_data_concat/sorted_concatenated_data.csv\"\n",
    "data = pd.read_csv(sorted_concatenated_csv)\n",
    "data.drop(columns=['zCOM'], inplace=True)\n",
    "print(data.head())"
   ]
  },
  {
   "cell_type": "code",
   "execution_count": 230,
   "metadata": {},
   "outputs": [
    {
     "name": "stdout",
     "output_type": "stream",
     "text": [
      "       time  xCOM  yCOM           il8           il1           il6  \\\n",
      "0         0    33    22  3.750408e-07  0.000000e+00  0.000000e+00   \n",
      "1         0    11    32  4.793328e-09  0.000000e+00  0.000000e+00   \n",
      "2         0    30    35  8.997935e-09  0.000000e+00  0.000000e+00   \n",
      "3         0    17    40  1.781103e-08  0.000000e+00  0.000000e+00   \n",
      "4         0    21    23  4.789621e-09  0.000000e+00  0.000000e+00   \n",
      "...     ...   ...   ...           ...           ...           ...   \n",
      "86155   100    49    35 -8.886183e-11  6.343394e-10  1.206925e-08   \n",
      "86156   100    36     4  1.334245e-07  1.665160e-07  1.305691e-08   \n",
      "86157   100    49    44 -1.233990e-10  1.178848e-09  1.615457e-07   \n",
      "86158   100    45    10  3.257988e-07  4.403049e-08  1.749928e-07   \n",
      "86159   100    35    38  2.107191e-05  9.170692e-08  5.693712e-19   \n",
      "\n",
      "               il10           tnf           tgf  \n",
      "0      0.000000e+00  0.000000e+00  0.000000e+00  \n",
      "1      0.000000e+00  0.000000e+00  0.000000e+00  \n",
      "2      0.000000e+00  0.000000e+00  0.000000e+00  \n",
      "3      0.000000e+00  0.000000e+00  0.000000e+00  \n",
      "4      0.000000e+00  0.000000e+00  0.000000e+00  \n",
      "...             ...           ...           ...  \n",
      "86155  3.819835e-10  1.979543e-10  4.400244e-06  \n",
      "86156  4.469681e-10  3.720676e-07  7.833499e-06  \n",
      "86157  3.270504e-08  9.659641e-08  6.022260e-06  \n",
      "86158  3.550616e-08  1.001522e-07  6.226569e-06  \n",
      "86159  5.103635e-25  4.620498e-09  2.838544e-12  \n",
      "\n",
      "[86160 rows x 9 columns]\n"
     ]
    }
   ],
   "source": [
    "data['time'] = (data['mcsteps'] / 10000).astype(int)\n",
    "data = data[['time'] + [col for col in data.columns if col != 'time']]\n",
    "data.drop(columns=['mcsteps'], inplace=True)\n",
    "print(data)"
   ]
  },
  {
   "cell_type": "code",
   "execution_count": 92,
   "metadata": {},
   "outputs": [
    {
     "name": "stdout",
     "output_type": "stream",
     "text": [
      "        xCOM  yCOM  time  il8  il1  il6  il10  tnf  tgf\n",
      "0          0     0     0  0.0  0.0  0.0   0.0  0.0  0.0\n",
      "1          0     1     0  0.0  0.0  0.0   0.0  0.0  0.0\n",
      "2          0     2     0  0.0  0.0  0.0   0.0  0.0  0.0\n",
      "3          0     3     0  0.0  0.0  0.0   0.0  0.0  0.0\n",
      "4          0     4     0  0.0  0.0  0.0   0.0  0.0  0.0\n",
      "...      ...   ...   ...  ...  ...  ...   ...  ...  ...\n",
      "263861    50    46   100  0.0  0.0  0.0   0.0  0.0  0.0\n",
      "263862    50    47   100  0.0  0.0  0.0   0.0  0.0  0.0\n",
      "263863    50    48   100  0.0  0.0  0.0   0.0  0.0  0.0\n",
      "263864    50    49   100  0.0  0.0  0.0   0.0  0.0  0.0\n",
      "263865    50    50   100  0.0  0.0  0.0   0.0  0.0  0.0\n",
      "\n",
      "[262701 rows x 9 columns]\n"
     ]
    }
   ],
   "source": [
    "import itertools\n",
    "\n",
    "time_step_dfs = []\n",
    "\n",
    "for time_step in range(101):\n",
    "    \n",
    "    # Generate all possible combinations of 'xCOM' and 'yCOM' for the current time step\n",
    "    combinations = list(itertools.product(range(51), range(51)))\n",
    "    possible_combinations = pd.DataFrame(combinations, columns=['xCOM', 'yCOM'])\n",
    "    possible_combinations['time'] = time_step\n",
    "    \n",
    "    # Merge the possible combinations with the original data for the current time step to identify missing combinations\n",
    "    merged_data = pd.merge(possible_combinations, data[data['time'] == time_step], on=['time', 'xCOM', 'yCOM'], how='left')\n",
    "    \n",
    "    # Fill missing values with 0\n",
    "    merged_data.fillna(0, inplace=True)\n",
    "    \n",
    "    # Append the merged DataFrame to the list\n",
    "    time_step_dfs.append(merged_data)\n",
    "\n",
    "# Concatenate all DataFrames along the rows\n",
    "filled_data = pd.concat(time_step_dfs, ignore_index=True)\n",
    "\n",
    "# Drop duplicate rows\n",
    "filled_data.drop_duplicates(inplace=True)\n",
    "\n",
    "print(filled_data)\n",
    "\n",
    "filled_data.to_csv('filled_data.csv', index=False)"
   ]
  },
  {
   "cell_type": "code",
   "execution_count": 20,
   "metadata": {},
   "outputs": [
    {
     "name": "stdout",
     "output_type": "stream",
     "text": [
      "Smallest values for each cytokine:\n",
      "il8     0.0\n",
      "il1     0.0\n",
      "il6     0.0\n",
      "il10    0.0\n",
      "tnf     0.0\n",
      "tgf     0.0\n",
      "dtype: float64\n",
      "\n",
      "Largest values for each cytokine:\n",
      "il8     2.745434e-05\n",
      "il1     8.067287e-06\n",
      "il6     8.228592e-07\n",
      "il10    1.480818e-07\n",
      "tnf     1.316345e-05\n",
      "tgf     1.271714e-05\n",
      "dtype: float64\n"
     ]
    }
   ],
   "source": [
    "cytokine_columns = ['il8', 'il1', 'il6', 'il10', 'tnf', 'tgf']\n",
    "\n",
    "smallest_values = df[cytokine_columns].min()\n",
    "largest_values = df[cytokine_columns].max()\n",
    "\n",
    "print(\"Smallest values for each cytokine:\")\n",
    "print(smallest_values)\n",
    "\n",
    "print(\"\\nLargest values for each cytokine:\")\n",
    "print(largest_values)"
   ]
  },
  {
   "cell_type": "code",
   "execution_count": 232,
   "metadata": {},
   "outputs": [
    {
     "name": "stdout",
     "output_type": "stream",
     "text": [
      "Number of negative values replaced with 0 in 'il8': 7147\n",
      "Number of negative values replaced with 0 in 'il1': 0\n",
      "Number of negative values replaced with 0 in 'il6': 0\n",
      "Number of negative values replaced with 0 in 'il10': 0\n",
      "Number of negative values replaced with 0 in 'tnf': 0\n",
      "Number of negative values replaced with 0 in 'tgf': 0\n"
     ]
    },
    {
     "name": "stderr",
     "output_type": "stream",
     "text": [
      "C:\\Users\\Giannis\\AppData\\Local\\Temp\\ipykernel_14836\\1814894933.py:3: SettingWithCopyWarning: \n",
      "A value is trying to be set on a copy of a slice from a DataFrame\n",
      "\n",
      "See the caveats in the documentation: https://pandas.pydata.org/pandas-docs/stable/user_guide/indexing.html#returning-a-view-versus-a-copy\n",
      "  data[data < 0] = 0\n",
      "C:\\Users\\Giannis\\AppData\\Local\\Temp\\ipykernel_14836\\1814894933.py:3: SettingWithCopyWarning: \n",
      "A value is trying to be set on a copy of a slice from a DataFrame\n",
      "\n",
      "See the caveats in the documentation: https://pandas.pydata.org/pandas-docs/stable/user_guide/indexing.html#returning-a-view-versus-a-copy\n",
      "  data[data < 0] = 0\n",
      "C:\\Users\\Giannis\\AppData\\Local\\Temp\\ipykernel_14836\\1814894933.py:3: SettingWithCopyWarning: \n",
      "A value is trying to be set on a copy of a slice from a DataFrame\n",
      "\n",
      "See the caveats in the documentation: https://pandas.pydata.org/pandas-docs/stable/user_guide/indexing.html#returning-a-view-versus-a-copy\n",
      "  data[data < 0] = 0\n",
      "C:\\Users\\Giannis\\AppData\\Local\\Temp\\ipykernel_14836\\1814894933.py:3: SettingWithCopyWarning: \n",
      "A value is trying to be set on a copy of a slice from a DataFrame\n",
      "\n",
      "See the caveats in the documentation: https://pandas.pydata.org/pandas-docs/stable/user_guide/indexing.html#returning-a-view-versus-a-copy\n",
      "  data[data < 0] = 0\n",
      "C:\\Users\\Giannis\\AppData\\Local\\Temp\\ipykernel_14836\\1814894933.py:3: SettingWithCopyWarning: \n",
      "A value is trying to be set on a copy of a slice from a DataFrame\n",
      "\n",
      "See the caveats in the documentation: https://pandas.pydata.org/pandas-docs/stable/user_guide/indexing.html#returning-a-view-versus-a-copy\n",
      "  data[data < 0] = 0\n",
      "C:\\Users\\Giannis\\AppData\\Local\\Temp\\ipykernel_14836\\1814894933.py:3: SettingWithCopyWarning: \n",
      "A value is trying to be set on a copy of a slice from a DataFrame\n",
      "\n",
      "See the caveats in the documentation: https://pandas.pydata.org/pandas-docs/stable/user_guide/indexing.html#returning-a-view-versus-a-copy\n",
      "  data[data < 0] = 0\n"
     ]
    }
   ],
   "source": [
    "def replace_negative_with_zero(data):\n",
    "    num_negative_values = (data < 0).sum().sum()\n",
    "    data[data < 0] = 0\n",
    "    \n",
    "    return num_negative_values\n",
    "\n",
    "cytokine_columns = ['il8', 'il1', 'il6', 'il10', 'tnf', 'tgf']\n",
    "\n",
    "for col in cytokine_columns:\n",
    "    num_negatives = replace_negative_with_zero(data[col])\n",
    "    print(f\"Number of negative values replaced with 0 in '{col}': {num_negatives}\")"
   ]
  },
  {
   "cell_type": "code",
   "execution_count": 4,
   "metadata": {},
   "outputs": [
    {
     "name": "stdout",
     "output_type": "stream",
     "text": [
      "Shape of X: (99, 2, 2601, 8)\n",
      "Shape of Y: (99, 2601, 8)\n"
     ]
    }
   ],
   "source": [
    "# Load the data from CSV file\n",
    "df = pd.read_csv(\"filled_data.csv\")\n",
    "# Convert DataFrame to array\n",
    "data_arrays = [df[df['time'] == i].drop(columns=['time']).values for i in range(101)]\n",
    "\n",
    "# Define the window size\n",
    "window_size = 2\n",
    "\n",
    "# Prepare input sequences and output values\n",
    "X = []  # Input sequences\n",
    "Y = []  # Output values\n",
    "\n",
    "# Loop through the data arrays to create X and Y\n",
    "for i in range(len(data_arrays) - window_size):\n",
    "    # Extract input sequence (t=i to t=i+1)\n",
    "    input_seq = [data_arrays[j] for j in range(i, i + window_size)]\n",
    "    \n",
    "    # Extract output value (t=i+2)\n",
    "    output_val = data_arrays[i + window_size]\n",
    "    \n",
    "    # Append input sequence to X and output value to Y\n",
    "    X.append(input_seq)\n",
    "    Y.append(output_val)\n",
    "\n",
    "# Convert lists to numpy arrays\n",
    "X = np.array(X)\n",
    "Y = np.array(Y)\n",
    "\n",
    "# Check the shapes of X and Y\n",
    "print(\"Shape of X:\", X.shape)  # (num_samples, 2, 2601, 8)\n",
    "print(\"Shape of Y:\", Y.shape)  # (num_samples, 2601, 8)"
   ]
  },
  {
   "cell_type": "code",
   "execution_count": 5,
   "metadata": {},
   "outputs": [
    {
     "name": "stdout",
     "output_type": "stream",
     "text": [
      "[[ 0.0000000e+00  0.0000000e+00  0.0000000e+00  0.0000000e+00\n",
      "   0.0000000e+00  0.0000000e+00  0.0000000e+00  0.0000000e+00]\n",
      " [ 0.0000000e+00  1.0000000e+00  0.0000000e+00  0.0000000e+00\n",
      "   0.0000000e+00  0.0000000e+00  0.0000000e+00  0.0000000e+00]\n",
      " [ 0.0000000e+00  2.0000000e+00 -1.6079858e-22  0.0000000e+00\n",
      "   0.0000000e+00  0.0000000e+00  0.0000000e+00  0.0000000e+00]\n",
      " [ 0.0000000e+00  3.0000000e+00  0.0000000e+00  0.0000000e+00\n",
      "   0.0000000e+00  0.0000000e+00  0.0000000e+00  0.0000000e+00]\n",
      " [ 0.0000000e+00  4.0000000e+00  0.0000000e+00  0.0000000e+00\n",
      "   0.0000000e+00  0.0000000e+00  0.0000000e+00  0.0000000e+00]\n",
      " [ 0.0000000e+00  5.0000000e+00  0.0000000e+00  0.0000000e+00\n",
      "   0.0000000e+00  0.0000000e+00  0.0000000e+00  0.0000000e+00]\n",
      " [ 0.0000000e+00  6.0000000e+00  0.0000000e+00  0.0000000e+00\n",
      "   0.0000000e+00  0.0000000e+00  0.0000000e+00  0.0000000e+00]\n",
      " [ 0.0000000e+00  7.0000000e+00  0.0000000e+00  0.0000000e+00\n",
      "   0.0000000e+00  0.0000000e+00  0.0000000e+00  0.0000000e+00]\n",
      " [ 0.0000000e+00  8.0000000e+00  0.0000000e+00  0.0000000e+00\n",
      "   0.0000000e+00  0.0000000e+00  0.0000000e+00  0.0000000e+00]\n",
      " [ 0.0000000e+00  9.0000000e+00  0.0000000e+00  0.0000000e+00\n",
      "   0.0000000e+00  0.0000000e+00  0.0000000e+00  0.0000000e+00]]\n"
     ]
    }
   ],
   "source": [
    "print(Y[0][:10])"
   ]
  },
  {
   "cell_type": "markdown",
   "metadata": {},
   "source": [
    "**Create arrays**"
   ]
  },
  {
   "cell_type": "code",
   "execution_count": 234,
   "metadata": {},
   "outputs": [],
   "source": [
    "# define cytokines\n",
    "cytokines = ['il8', 'il1', 'il6', 'il10', 'tnf', 'tgf']\n",
    "\n",
    "# get unique time values\n",
    "unique_time = data['time'].unique()\n",
    "\n",
    "arrays = {}\n",
    "\n",
    "# iterate over unique time values\n",
    "for time in unique_time:\n",
    "    # filter data for current value of time\n",
    "    data_time = data[data['time'] == time]\n",
    "    \n",
    "    # initialize 50x50x6 array for current value of time\n",
    "    array = np.zeros((50, 50, len(cytokines)))\n",
    "    \n",
    "    # get X and Y coordinates\n",
    "    x = data_time['xCOM'].astype(int)\n",
    "    y = data_time['yCOM'].astype(int)\n",
    "    \n",
    "    # get cytokine concentrations\n",
    "    concentrations = data_time[['il8', 'il1', 'il6', 'il10', 'tnf', 'tgf']].values\n",
    "    \n",
    "    # assign cytokine concentrations to corresponding position in array\n",
    "    array[x, y, :] = concentrations\n",
    "    \n",
    "    # store array for current value of time\n",
    "    arrays[time] = array"
   ]
  },
  {
   "cell_type": "markdown",
   "metadata": {},
   "source": [
    "**Print arrays**"
   ]
  },
  {
   "cell_type": "code",
   "execution_count": 235,
   "metadata": {},
   "outputs": [
    {
     "name": "stdout",
     "output_type": "stream",
     "text": [
      "Number of arrays: 101\n",
      "Shape of the array: (50, 50, 6)\n",
      "Value at position (39,25): [1.7285698e-05 7.6371320e-11 2.9109778e-14 5.1850766e-18 9.9240220e-17\n",
      " 1.7688583e-11]\n"
     ]
    }
   ],
   "source": [
    "print(\"Number of arrays:\", len(arrays))\n",
    "array = arrays[91]\n",
    "print(\"Shape of the array:\", array.shape)\n",
    "print(\"Value at position (39,25):\", array[39,25])"
   ]
  },
  {
   "cell_type": "markdown",
   "metadata": {},
   "source": [
    "**read 10 sequences to predict the 11th**"
   ]
  },
  {
   "cell_type": "code",
   "execution_count": 236,
   "metadata": {},
   "outputs": [],
   "source": [
    "sequence_length = 10\n",
    "input_sequences = []\n",
    "output_values = []\n",
    "\n",
    "# convert dictionary values to a list of arrays\n",
    "arrays_list = [arrays[key] for key in sorted(arrays.keys())]\n",
    "\n",
    "# convert 'arrays' list to numpy array\n",
    "arrays_np = np.array(arrays_list)\n",
    "\n",
    "for i in range(len(arrays_np) - sequence_length):\n",
    "    input_seq = arrays_np[i:i+sequence_length]  # input sequence of arrays\n",
    "    output_val = arrays_np[i+sequence_length]   # array at next time step\n",
    "    \n",
    "    input_sequences.append(input_seq)\n",
    "    output_values.append(output_val)\n",
    "\n",
    "# convert lists to numpy arrays\n",
    "input_sequences = np.array(input_sequences)\n",
    "output_values = np.array(output_values)"
   ]
  },
  {
   "cell_type": "code",
   "execution_count": 237,
   "metadata": {},
   "outputs": [
    {
     "name": "stdout",
     "output_type": "stream",
     "text": [
      "(91, 10, 50, 50, 6)\n",
      "(91, 50, 50, 6)\n"
     ]
    }
   ],
   "source": [
    "print(input_sequences.shape)\n",
    "print(output_values.shape)"
   ]
  },
  {
   "cell_type": "markdown",
   "metadata": {},
   "source": [
    "**Models**"
   ]
  },
  {
   "cell_type": "markdown",
   "metadata": {},
   "source": [
    "Shape of X: (99, 2, 2601, 8)\n",
    "Shape of Y: (99, 2601, 8)"
   ]
  },
  {
   "cell_type": "code",
   "execution_count": 19,
   "metadata": {},
   "outputs": [
    {
     "name": "stdout",
     "output_type": "stream",
     "text": [
      "Number of negative values replaced with 0 in 'il8': 6795\n",
      "Number of negative values replaced with 0 in 'il1': 0\n",
      "Number of negative values replaced with 0 in 'il6': 0\n",
      "Number of negative values replaced with 0 in 'il10': 0\n",
      "Number of negative values replaced with 0 in 'tnf': 0\n",
      "Number of negative values replaced with 0 in 'tgf': 0\n"
     ]
    },
    {
     "name": "stderr",
     "output_type": "stream",
     "text": [
      "C:\\Users\\Giannis\\AppData\\Local\\Temp\\ipykernel_18884\\4102754413.py:3: SettingWithCopyWarning: \n",
      "A value is trying to be set on a copy of a slice from a DataFrame\n",
      "\n",
      "See the caveats in the documentation: https://pandas.pydata.org/pandas-docs/stable/user_guide/indexing.html#returning-a-view-versus-a-copy\n",
      "  df[df < 0] = 0\n",
      "C:\\Users\\Giannis\\AppData\\Local\\Temp\\ipykernel_18884\\4102754413.py:3: SettingWithCopyWarning: \n",
      "A value is trying to be set on a copy of a slice from a DataFrame\n",
      "\n",
      "See the caveats in the documentation: https://pandas.pydata.org/pandas-docs/stable/user_guide/indexing.html#returning-a-view-versus-a-copy\n",
      "  df[df < 0] = 0\n",
      "C:\\Users\\Giannis\\AppData\\Local\\Temp\\ipykernel_18884\\4102754413.py:3: SettingWithCopyWarning: \n",
      "A value is trying to be set on a copy of a slice from a DataFrame\n",
      "\n",
      "See the caveats in the documentation: https://pandas.pydata.org/pandas-docs/stable/user_guide/indexing.html#returning-a-view-versus-a-copy\n",
      "  df[df < 0] = 0\n",
      "C:\\Users\\Giannis\\AppData\\Local\\Temp\\ipykernel_18884\\4102754413.py:3: SettingWithCopyWarning: \n",
      "A value is trying to be set on a copy of a slice from a DataFrame\n",
      "\n",
      "See the caveats in the documentation: https://pandas.pydata.org/pandas-docs/stable/user_guide/indexing.html#returning-a-view-versus-a-copy\n",
      "  df[df < 0] = 0\n",
      "C:\\Users\\Giannis\\AppData\\Local\\Temp\\ipykernel_18884\\4102754413.py:3: SettingWithCopyWarning: \n",
      "A value is trying to be set on a copy of a slice from a DataFrame\n",
      "\n",
      "See the caveats in the documentation: https://pandas.pydata.org/pandas-docs/stable/user_guide/indexing.html#returning-a-view-versus-a-copy\n",
      "  df[df < 0] = 0\n",
      "C:\\Users\\Giannis\\AppData\\Local\\Temp\\ipykernel_18884\\4102754413.py:3: SettingWithCopyWarning: \n",
      "A value is trying to be set on a copy of a slice from a DataFrame\n",
      "\n",
      "See the caveats in the documentation: https://pandas.pydata.org/pandas-docs/stable/user_guide/indexing.html#returning-a-view-versus-a-copy\n",
      "  df[df < 0] = 0\n"
     ]
    }
   ],
   "source": [
    "def replace_negative_with_zero(df):\n",
    "    num_negative_values = (df < 0).sum().sum()\n",
    "    df[df < 0] = 0\n",
    "    \n",
    "    return num_negative_values\n",
    "\n",
    "cytokine_columns = ['il8', 'il1', 'il6', 'il10', 'tnf', 'tgf']\n",
    "\n",
    "for col in cytokine_columns:\n",
    "    num_negatives = replace_negative_with_zero(df[col])\n",
    "    print(f\"Number of negative values replaced with 0 in '{col}': {num_negatives}\")"
   ]
  },
  {
   "cell_type": "code",
   "execution_count": 18,
   "metadata": {},
   "outputs": [
    {
     "name": "stdout",
     "output_type": "stream",
     "text": [
      "Shape of X_train: (210144, 20, 9)\n",
      "Shape of y_train: (210144, 6)\n",
      "Shape of X_test: (52536, 20, 9)\n",
      "Shape of y_test: (52536, 6)\n"
     ]
    }
   ],
   "source": [
    "df = pd.read_csv('filled_data.csv')\n",
    "\n",
    "features = df.iloc[:, :9].values\n",
    "targets = df.iloc[:, 3:].values\n",
    "\n",
    "# Set the sequence length\n",
    "seq_length = 20\n",
    "\n",
    "# Initialize lists to store sequences\n",
    "X_sequences = []\n",
    "y_sequences = []\n",
    "\n",
    "# Create sequences of length seq_length\n",
    "for i in range(len(features) - seq_length - 1):\n",
    "    X_sequences.append(features[i:i+seq_length])\n",
    "    y_sequences.append(targets[i+seq_length])\n",
    "\n",
    "# Convert lists to numpy arrays\n",
    "X = np.array(X_sequences)\n",
    "y = np.array(y_sequences)\n",
    "\n",
    "split_index = int(len(X) * 0.8) \n",
    "\n",
    "# Split the data into training and test sets\n",
    "X_train, X_test = X[:split_index], X[split_index:]\n",
    "y_train, y_test = y[:split_index], y[split_index:]\n",
    "\n",
    "# Check the shapes of the train and test data\n",
    "print(\"Shape of X_train:\", X_train.shape)\n",
    "print(\"Shape of y_train:\", y_train.shape)\n",
    "print(\"Shape of X_test:\", X_test.shape)\n",
    "print(\"Shape of y_test:\", y_test.shape)"
   ]
  },
  {
   "cell_type": "code",
   "execution_count": 22,
   "metadata": {},
   "outputs": [
    {
     "name": "stdout",
     "output_type": "stream",
     "text": [
      "Model: \"sequential_10\"\n",
      "_________________________________________________________________\n",
      " Layer (type)                Output Shape              Param #   \n",
      "=================================================================\n",
      " lstm_15 (LSTM)              (None, 20, 128)           70656     \n",
      "                                                                 \n",
      " lstm_16 (LSTM)              (None, 128)               131584    \n",
      "                                                                 \n",
      " dense_18 (Dense)            (None, 6)                 774       \n",
      "                                                                 \n",
      "=================================================================\n",
      "Total params: 203,014\n",
      "Trainable params: 203,014\n",
      "Non-trainable params: 0\n",
      "_________________________________________________________________\n",
      "None\n",
      "Epoch 1/30\n",
      "1892/1892 [==============================] - 42s 21ms/step - loss: 1.4152e-04 - r_squared: -835208.2500 - mape: 538005.7500 - accuracy: 0.0000e+00 - average_relative_rmse: 5670.9204 - average_relative_error: 5378.6099 - msle: 9.4727e-05 - val_loss: 2.7196e-08 - val_r_squared: -155.9333 - val_mape: 153886.5469 - val_accuracy: 0.0000e+00 - val_average_relative_rmse: 1599.2037 - val_average_relative_error: 1539.0306 - val_msle: 2.7162e-08\n",
      "Epoch 2/30\n",
      "1892/1892 [==============================] - 39s 20ms/step - loss: 1.8178e-08 - r_squared: -106.1795 - mape: 126807.2109 - accuracy: 0.0000e+00 - average_relative_rmse: 1305.1580 - average_relative_error: 1267.9790 - msle: 1.8151e-08 - val_loss: 1.2184e-08 - val_r_squared: -69.3076 - val_mape: 103114.8125 - val_accuracy: 0.0000e+00 - val_average_relative_rmse: 1069.2867 - val_average_relative_error: 1031.2758 - val_msle: 1.2163e-08\n",
      "Epoch 3/30\n",
      "1892/1892 [==============================] - 38s 20ms/step - loss: 8.1763e-09 - r_squared: -47.2069 - mape: 84611.5469 - accuracy: 0.0000e+00 - average_relative_rmse: 872.8834 - average_relative_error: 846.0494 - msle: 8.1589e-09 - val_loss: 5.3155e-09 - val_r_squared: -29.6741 - val_mape: 67866.5000 - val_accuracy: 0.0000e+00 - val_average_relative_rmse: 706.0360 - val_average_relative_error: 678.7509 - val_msle: 5.3018e-09\n",
      "Epoch 4/30\n",
      "1892/1892 [==============================] - 39s 20ms/step - loss: 3.5020e-09 - r_squared: -19.6485 - mape: 55151.0156 - accuracy: 0.0000e+00 - average_relative_rmse: 570.3468 - average_relative_error: 551.4736 - msle: 3.4910e-09 - val_loss: 2.2203e-09 - val_r_squared: -11.8144 - val_mape: 43889.3633 - val_accuracy: 0.0000e+00 - val_average_relative_rmse: 457.3659 - val_average_relative_error: 438.9496 - val_msle: 2.2116e-09\n",
      "Epoch 5/30\n",
      "1892/1892 [==============================] - 39s 20ms/step - loss: 1.4582e-09 - r_squared: -7.5979 - mape: 35604.0508 - accuracy: 0.0000e+00 - average_relative_rmse: 368.5486 - average_relative_error: 356.0153 - msle: 1.4512e-09 - val_loss: 9.2179e-10 - val_r_squared: -4.3210 - val_mape: 28409.2695 - val_accuracy: 0.0000e+00 - val_average_relative_rmse: 296.1483 - val_average_relative_error: 284.1286 - val_msle: 9.1622e-10\n",
      "Epoch 6/30\n",
      "1892/1892 [==============================] - 39s 20ms/step - loss: 6.1402e-10 - r_squared: -2.6203 - mape: 23205.5391 - accuracy: 0.0000e+00 - average_relative_rmse: 240.1339 - average_relative_error: 232.0372 - msle: 6.0944e-10 - val_loss: 3.9654e-10 - val_r_squared: -1.2894 - val_mape: 18762.4570 - val_accuracy: 7.8199e-04 - val_average_relative_rmse: 195.4177 - val_average_relative_error: 187.6480 - val_msle: 3.9287e-10\n",
      "Epoch 7/30\n",
      "1892/1892 [==============================] - 39s 20ms/step - loss: 2.7276e-10 - r_squared: -0.6083 - mape: 15577.9717 - accuracy: 8.0378e-04 - average_relative_rmse: 160.9963 - average_relative_error: 155.7685 - msle: 2.6970e-10 - val_loss: 1.8519e-10 - val_r_squared: -0.0693 - val_mape: 12895.2275 - val_accuracy: 0.0138 - val_average_relative_rmse: 134.0950 - val_average_relative_error: 128.9684 - val_msle: 1.8267e-10\n",
      "Epoch 8/30\n",
      "1892/1892 [==============================] - 39s 20ms/step - loss: 1.3342e-10 - r_squared: 0.2133 - mape: 10972.4941 - accuracy: 0.0054 - average_relative_rmse: 113.2311 - average_relative_error: 109.7199 - msle: 1.3127e-10 - val_loss: 9.7804e-11 - val_r_squared: 0.4354 - val_mape: 9370.3213 - val_accuracy: 0.0055 - val_average_relative_rmse: 97.2832 - val_average_relative_error: 93.7149 - val_msle: 9.5980e-11\n",
      "Epoch 9/30\n",
      "1892/1892 [==============================] - 39s 20ms/step - loss: 7.4003e-11 - r_squared: 0.5637 - mape: 8205.6328 - accuracy: 0.0060 - average_relative_rmse: 84.5786 - average_relative_error: 82.0528 - msle: 7.2393e-11 - val_loss: 5.9429e-11 - val_r_squared: 0.6570 - val_mape: 7241.5581 - val_accuracy: 0.0028 - val_average_relative_rmse: 75.0999 - val_average_relative_error: 72.4246 - val_msle: 5.8022e-11\n",
      "Epoch 10/30\n",
      "1892/1892 [==============================] - 38s 20ms/step - loss: 4.6715e-11 - r_squared: 0.7246 - mape: 6518.6416 - accuracy: 0.0049 - average_relative_rmse: 67.1487 - average_relative_error: 65.1844 - msle: 4.5438e-11 - val_loss: 4.1049e-11 - val_r_squared: 0.7632 - val_mape: 5922.0205 - val_accuracy: 0.0019 - val_average_relative_rmse: 61.3815 - val_average_relative_error: 59.2276 - val_msle: 3.9901e-11\n",
      "Epoch 11/30\n",
      "1892/1892 [==============================] - 39s 20ms/step - loss: 3.2941e-11 - r_squared: 0.8058 - mape: 5452.9678 - accuracy: 0.0040 - average_relative_rmse: 56.1592 - average_relative_error: 54.5284 - msle: 3.1875e-11 - val_loss: 3.1321e-11 - val_r_squared: 0.8195 - val_mape: 5066.3584 - val_accuracy: 0.0015 - val_average_relative_rmse: 52.5026 - val_average_relative_error: 50.6700 - val_msle: 3.0340e-11\n",
      "Epoch 12/30\n",
      "1892/1892 [==============================] - 39s 20ms/step - loss: 2.5251e-11 - r_squared: 0.8511 - mape: 4744.0894 - accuracy: 0.0035 - average_relative_rmse: 48.8591 - average_relative_error: 47.4402 - msle: 2.4324e-11 - val_loss: 2.5636e-11 - val_r_squared: 0.8524 - val_mape: 4479.5459 - val_accuracy: 0.0016 - val_average_relative_rmse: 46.4226 - val_average_relative_error: 44.8012 - val_msle: 2.4769e-11\n",
      "Epoch 13/30\n",
      "1892/1892 [==============================] - 39s 20ms/step - loss: 2.0534e-11 - r_squared: 0.8789 - mape: 4245.1240 - accuracy: 0.0032 - average_relative_rmse: 43.7270 - average_relative_error: 42.4504 - msle: 1.9706e-11 - val_loss: 2.2013e-11 - val_r_squared: 0.8733 - val_mape: 4054.2554 - val_accuracy: 0.0018 - val_average_relative_rmse: 42.0211 - val_average_relative_error: 40.5477 - val_msle: 2.1229e-11\n",
      "Epoch 14/30\n",
      "1892/1892 [==============================] - 39s 21ms/step - loss: 1.7404e-11 - r_squared: 0.8974 - mape: 3874.9778 - accuracy: 0.0029 - average_relative_rmse: 39.9235 - average_relative_error: 38.7490 - msle: 1.6649e-11 - val_loss: 1.9537e-11 - val_r_squared: 0.8876 - val_mape: 3730.9897 - val_accuracy: 0.0024 - val_average_relative_rmse: 38.6788 - val_average_relative_error: 37.3147 - val_msle: 1.8817e-11\n",
      "Epoch 15/30\n",
      "1892/1892 [==============================] - 39s 21ms/step - loss: 1.5194e-11 - r_squared: 0.9104 - mape: 3588.2109 - accuracy: 0.0028 - average_relative_rmse: 36.9793 - average_relative_error: 35.8817 - msle: 1.4495e-11 - val_loss: 1.7751e-11 - val_r_squared: 0.8980 - val_mape: 3475.6040 - val_accuracy: 0.0028 - val_average_relative_rmse: 36.0406 - val_average_relative_error: 34.7605 - val_msle: 1.7080e-11\n",
      "Epoch 16/30\n",
      "1892/1892 [==============================] - 39s 21ms/step - loss: 1.3555e-11 - r_squared: 0.9201 - mape: 3358.1914 - accuracy: 0.0027 - average_relative_rmse: 34.6196 - average_relative_error: 33.5818 - msle: 1.2902e-11 - val_loss: 1.6405e-11 - val_r_squared: 0.9057 - val_mape: 3267.5667 - val_accuracy: 0.0031 - val_average_relative_rmse: 33.8931 - val_average_relative_error: 32.6799 - val_msle: 1.5776e-11\n",
      "Epoch 17/30\n",
      "1892/1892 [==============================] - 39s 21ms/step - loss: 1.2295e-11 - r_squared: 0.9275 - mape: 3168.5422 - accuracy: 0.0026 - average_relative_rmse: 32.6743 - average_relative_error: 31.6849 - msle: 1.1679e-11 - val_loss: 1.5359e-11 - val_r_squared: 0.9118 - val_mape: 3094.0813 - val_accuracy: 0.0029 - val_average_relative_rmse: 32.1034 - val_average_relative_error: 30.9448 - val_msle: 1.4763e-11\n",
      "Epoch 18/30\n",
      "1892/1892 [==============================] - 39s 21ms/step - loss: 1.1296e-11 - r_squared: 0.9334 - mape: 3008.8711 - accuracy: 0.0026 - average_relative_rmse: 31.0387 - average_relative_error: 30.0887 - msle: 1.0712e-11 - val_loss: 1.4522e-11 - val_r_squared: 0.9166 - val_mape: 2946.5667 - val_accuracy: 0.0032 - val_average_relative_rmse: 30.5829 - val_average_relative_error: 29.4695 - val_msle: 1.3956e-11\n",
      "Epoch 19/30\n",
      "1892/1892 [==============================] - 39s 20ms/step - loss: 1.0485e-11 - r_squared: 0.9382 - mape: 2871.9375 - accuracy: 0.0026 - average_relative_rmse: 29.6365 - average_relative_error: 28.7193 - msle: 9.9282e-12 - val_loss: 1.3840e-11 - val_r_squared: 0.9206 - val_mape: 2819.1394 - val_accuracy: 0.0031 - val_average_relative_rmse: 29.2703 - val_average_relative_error: 28.1951 - val_msle: 1.3298e-11\n",
      "Epoch 20/30\n",
      "1892/1892 [==============================] - 39s 21ms/step - loss: 9.8151e-12 - r_squared: 0.9421 - mape: 2752.9468 - accuracy: 0.0025 - average_relative_rmse: 28.4187 - average_relative_error: 27.5293 - msle: 9.2813e-12 - val_loss: 1.3271e-11 - val_r_squared: 0.9239 - val_mape: 2707.4421 - val_accuracy: 0.0030 - val_average_relative_rmse: 28.1205 - val_average_relative_error: 27.0780 - val_msle: 1.2751e-11\n",
      "Epoch 21/30\n",
      "1892/1892 [==============================] - 39s 20ms/step - loss: 9.2521e-12 - r_squared: 0.9455 - mape: 2648.3916 - accuracy: 0.0026 - average_relative_rmse: 27.3497 - average_relative_error: 26.4837 - msle: 8.7389e-12 - val_loss: 1.2793e-11 - val_r_squared: 0.9267 - val_mape: 2608.8867 - val_accuracy: 0.0032 - val_average_relative_rmse: 27.1068 - val_average_relative_error: 26.0923 - val_msle: 1.2293e-11\n",
      "Epoch 22/30\n",
      "1892/1892 [==============================] - 39s 21ms/step - loss: 8.7709e-12 - r_squared: 0.9483 - mape: 2555.2002 - accuracy: 0.0027 - average_relative_rmse: 26.3974 - average_relative_error: 25.5516 - msle: 8.2762e-12 - val_loss: 1.2385e-11 - val_r_squared: 0.9290 - val_mape: 2520.9348 - val_accuracy: 0.0034 - val_average_relative_rmse: 26.2026 - val_average_relative_error: 25.2127 - val_msle: 1.1902e-11\n",
      "Epoch 23/30\n",
      "1892/1892 [==============================] - 39s 21ms/step - loss: 8.3583e-12 - r_squared: 0.9507 - mape: 2472.1494 - accuracy: 0.0025 - average_relative_rmse: 25.5496 - average_relative_error: 24.7213 - msle: 7.8799e-12 - val_loss: 1.2032e-11 - val_r_squared: 0.9311 - val_mape: 2441.6118 - val_accuracy: 0.0034 - val_average_relative_rmse: 25.3880 - val_average_relative_error: 24.4194 - val_msle: 1.1564e-11\n",
      "Epoch 24/30\n",
      "1892/1892 [==============================] - 39s 21ms/step - loss: 7.9961e-12 - r_squared: 0.9529 - mape: 2396.5305 - accuracy: 0.0025 - average_relative_rmse: 24.7781 - average_relative_error: 23.9651 - msle: 7.5327e-12 - val_loss: 1.1724e-11 - val_r_squared: 0.9329 - val_mape: 2369.7815 - val_accuracy: 0.0032 - val_average_relative_rmse: 24.6507 - val_average_relative_error: 23.7010 - val_msle: 1.1270e-11\n",
      "Epoch 25/30\n",
      "1892/1892 [==============================] - 38s 20ms/step - loss: 7.6812e-12 - r_squared: 0.9547 - mape: 2328.4810 - accuracy: 0.0026 - average_relative_rmse: 24.0841 - average_relative_error: 23.2847 - msle: 7.2312e-12 - val_loss: 1.1456e-11 - val_r_squared: 0.9344 - val_mape: 2304.7903 - val_accuracy: 0.0032 - val_average_relative_rmse: 23.9840 - val_average_relative_error: 23.0510 - val_msle: 1.1015e-11\n",
      "Epoch 26/30\n",
      "1892/1892 [==============================] - 39s 21ms/step - loss: 7.4004e-12 - r_squared: 0.9564 - mape: 2265.8992 - accuracy: 0.0025 - average_relative_rmse: 23.4468 - average_relative_error: 22.6588 - msle: 6.9628e-12 - val_loss: 1.1214e-11 - val_r_squared: 0.9358 - val_mape: 2244.3210 - val_accuracy: 0.0031 - val_average_relative_rmse: 23.3645 - val_average_relative_error: 22.4462 - val_msle: 1.0785e-11\n",
      "Epoch 27/30\n",
      "1892/1892 [==============================] - 39s 20ms/step - loss: 7.1490e-12 - r_squared: 0.9579 - mape: 2208.1116 - accuracy: 0.0025 - average_relative_rmse: 22.8584 - average_relative_error: 22.0808 - msle: 6.7227e-12 - val_loss: 1.1001e-11 - val_r_squared: 0.9370 - val_mape: 2189.2061 - val_accuracy: 0.0030 - val_average_relative_rmse: 22.8001 - val_average_relative_error: 21.8950 - val_msle: 1.0583e-11\n",
      "Epoch 28/30\n",
      "1892/1892 [==============================] - 39s 21ms/step - loss: 6.9270e-12 - r_squared: 0.9592 - mape: 2155.6462 - accuracy: 0.0025 - average_relative_rmse: 22.3251 - average_relative_error: 21.5565 - msle: 6.5111e-12 - val_loss: 1.0813e-11 - val_r_squared: 0.9381 - val_mape: 2138.7690 - val_accuracy: 0.0028 - val_average_relative_rmse: 22.2838 - val_average_relative_error: 21.3906 - val_msle: 1.0404e-11\n",
      "Epoch 29/30\n",
      "1892/1892 [==============================] - 39s 21ms/step - loss: 6.7262e-12 - r_squared: 0.9604 - mape: 2106.8462 - accuracy: 0.0025 - average_relative_rmse: 21.8289 - average_relative_error: 21.0684 - msle: 6.3199e-12 - val_loss: 1.0640e-11 - val_r_squared: 0.9391 - val_mape: 2091.2046 - val_accuracy: 0.0028 - val_average_relative_rmse: 21.7977 - val_average_relative_error: 20.9149 - val_msle: 1.0240e-11\n",
      "Epoch 30/30\n",
      "1892/1892 [==============================] - 39s 21ms/step - loss: 6.5412e-12 - r_squared: 0.9614 - mape: 2060.7761 - accuracy: 0.0025 - average_relative_rmse: 21.3611 - average_relative_error: 20.6074 - msle: 6.1441e-12 - val_loss: 1.0482e-11 - val_r_squared: 0.9401 - val_mape: 2046.6233 - val_accuracy: 0.0026 - val_average_relative_rmse: 21.3425 - val_average_relative_error: 20.4690 - val_msle: 1.0091e-11\n",
      "1642/1642 [==============================] - 16s 9ms/step - loss: 1.2017e-11 - r_squared: 0.9773 - mape: 2042.0039 - accuracy: 0.0020 - average_relative_rmse: 21.3722 - average_relative_error: 20.4203 - msle: 1.1629e-11\n",
      "Test Loss: [1.2017272593700667e-11, 0.9773380160331726, 2042.00390625, 0.001991974888369441, 21.372220993041992, 20.420303344726562, 1.162936847515228e-11]\n"
     ]
    }
   ],
   "source": [
    "def rmse(y_true, y_pred):\n",
    "    return K.sqrt(K.mean(K.square(y_pred - y_true)))\n",
    "\n",
    "def r_squared(y_true, y_pred):\n",
    "    SS_res = K.sum(K.square(y_true - y_pred))\n",
    "    SS_tot = K.sum(K.square(y_true - K.mean(y_true, axis=0)))\n",
    "    return 1 - SS_res / (SS_tot + K.epsilon())\n",
    "\n",
    "\n",
    "def lr_schedule(epoch, lr):\n",
    "    if epoch < 5:\n",
    "        return 1e-2\n",
    "    if epoch < 15:\n",
    "        return 1e-2\n",
    "    else:\n",
    "        return 1e-2\n",
    "\n",
    "def average_relative_rmse(y_true, y_pred):\n",
    "    return K.sqrt(K.mean(K.square((y_pred - y_true) / K.clip(K.abs(y_true), K.epsilon(), None))))\n",
    "\n",
    "def average_relative_error(y_true, y_pred):\n",
    "    return K.mean(K.abs((y_pred - y_true) / K.clip(K.abs(y_true), K.epsilon(), None)))\n",
    "\n",
    "def accuracy(y_true, y_pred):\n",
    "    abs_diff = K.abs(y_true - y_pred)\n",
    "    threshold = 0.1 * y_true\n",
    "    accurate_predictions = K.less_equal(abs_diff, threshold)\n",
    "    accuracy = K.mean(accurate_predictions)\n",
    "    return accuracy\n",
    "\n",
    "early_stopping = EarlyStopping(monitor='val_loss', patience=10, verbose=1, restore_best_weights=True)\n",
    "lr_scheduler = LearningRateScheduler(lr_schedule)\n",
    "model = Sequential()\n",
    "model.add(LSTM(units=128, return_sequences=True, input_shape=(X_train.shape[1], X_train.shape[2])))\n",
    "model.add(LSTM(units=128))\n",
    "#model.add(Dense(units=100, activation='relu',))\n",
    "#model.add(Dropout(0.2))\n",
    "#model.add(Dense(units=100, activation='relu'))\n",
    "#model.add(Dropout(0.2))\n",
    "model.add(Dense(units=y_train.shape[1], activation='sigmoid'))\n",
    "\n",
    "# Compile the model\n",
    "initial_lr=1e-2\n",
    "model.compile(optimizer=Adam(learning_rate=initial_lr), loss='mse', metrics=[r_squared, 'mape', accuracy, average_relative_rmse, average_relative_error, 'msle'])\n",
    "\n",
    "print(model.summary())\n",
    "\n",
    "history = model.fit(X_train, y_train, epochs=30, batch_size=100, validation_split=0.1, callbacks=[early_stopping])\n",
    "\n",
    "loss = model.evaluate(X_test, y_test)\n",
    "print(\"Test Loss:\", loss)"
   ]
  },
  {
   "cell_type": "code",
   "execution_count": 348,
   "metadata": {},
   "outputs": [
    {
     "name": "stdout",
     "output_type": "stream",
     "text": [
      "1642/1642 [==============================] - 4s 3ms/step\n",
      "(52536, 6)\n",
      "(52536, 6)\n"
     ]
    }
   ],
   "source": [
    "y_pred= model.predict(X_test)\n",
    "print(y_pred.shape)\n",
    "print(y_test.shape)"
   ]
  },
  {
   "cell_type": "code",
   "execution_count": 23,
   "metadata": {},
   "outputs": [
    {
     "name": "stdout",
     "output_type": "stream",
     "text": [
      "1642/1642 [==============================] - 13s 7ms/step\n",
      "(52536, 6)\n",
      "(52536, 6)\n"
     ]
    }
   ],
   "source": [
    "y_pred2=model.predict(X_test)\n",
    "print(y_test.shape)\n",
    "print(y_pred2.shape)\n",
    "y_pred2_shape = y_pred2.shape\n",
    "y_test_shape=y_test.shape\n",
    "\n",
    "y_pred2_flattened = np.reshape(y_pred2, (-1, y_pred2_shape[-1]))\n",
    "y_test_flattened = np.reshape(y_test, (-1, y_test_shape[-1]))\n",
    "\n",
    "# Convert to DataFrame\n",
    "df = pd.DataFrame(y_pred2_flattened, columns=[f'feature_{i+1}' for i in range(y_pred2_shape[-1])])\n",
    "\n",
    "# Save to CSV\n",
    "df.to_csv('flattened_y_pred2.csv', index=False)"
   ]
  },
  {
   "cell_type": "code",
   "execution_count": 24,
   "metadata": {},
   "outputs": [
    {
     "name": "stdout",
     "output_type": "stream",
     "text": [
      "(52536, 6)\n",
      "(52536, 6)\n"
     ]
    }
   ],
   "source": [
    "print(y_test_flattened.shape)\n",
    "print(y_pred2_flattened.shape)"
   ]
  },
  {
   "cell_type": "code",
   "execution_count": null,
   "metadata": {},
   "outputs": [],
   "source": [
    "\n",
    "num_features = y_test_flattened.shape[1]\n",
    "for i in range(num_features):\n",
    "    plt.figure(figsize=(8, 6))\n",
    "    plt.scatter(y_test_flattened[:, i], y_pred2_flattened[:, i], color='blue', alpha=0.5, label='Predicted')\n",
    "    plt.scatter(y_test_flattened[:, i], y_test_flattened[:, i], color='red', alpha=0.5, label='Actual')\n",
    "    plt.title(f'Feature {i+1}')\n",
    "    plt.xlabel('Actual values')\n",
    "    plt.ylabel('Predicted values')\n",
    "    plt.xscale('log')  # Set x-axis to logarithmic scale\n",
    "    plt.yscale('log')  # Set y-axis to logarithmic scale\n",
    "    plt.legend()\n",
    "    plt.show()"
   ]
  },
  {
   "cell_type": "code",
   "execution_count": 26,
   "metadata": {},
   "outputs": [
    {
     "data": {
      "image/png": "[encoded data removed]",
      "text/plain": [
       "<Figure size 640x480 with 1 Axes>"
      ]
     },
     "metadata": {},
     "output_type": "display_data"
    }
   ],
   "source": [
    "train_loss = history.history['loss'][1:30]\n",
    "val_loss = history.history['val_loss'][1:30]\n",
    "plt.plot(train_loss, label='Training Loss')\n",
    "plt.plot(val_loss, label='Validation Loss')\n",
    "plt.xlabel('Epoch')\n",
    "plt.ylabel('Loss')\n",
    "plt.title('Training and Validation Loss (First 15 Epochs)')\n",
    "plt.legend()\n",
    "plt.show()\n"
   ]
  },
  {
   "cell_type": "code",
   "execution_count": null,
   "metadata": {},
   "outputs": [],
   "source": [
    "#(91, 10, 50, 50, 6)\n",
    "#(91, 50, 50, 6)\n",
    "\n",
    "def rmse(y_true, y_pred):\n",
    "    return K.sqrt(K.mean(K.square(y_pred - y_true)))\n",
    "\n",
    "def r_squared(y_true, y_pred):\n",
    "    SS_res =  K.sum(K.square(y_true - y_pred)) \n",
    "    SS_tot = K.sum(K.square(y_true - K.mean(y_true))) \n",
    "    return 1 - SS_res/(SS_tot + K.epsilon())\n",
    "\n",
    "def lr_schedule(epoch, lr):\n",
    "    if epoch < 500:\n",
    "        return 1e-2\n",
    "    if epoch < 1000:\n",
    "        return 1e-3\n",
    "    else:\n",
    "        return 1e-4\n",
    "\n",
    "def average_relative_rmse(y_true, y_pred):\n",
    "    return K.sqrt(K.mean(K.square((y_pred - y_true) / K.clip(K.abs(y_true), K.epsilon(), None))))\n",
    "\n",
    "def average_relative_error(y_true, y_pred):\n",
    "    return K.mean(K.abs((y_pred - y_true) / K.clip(K.abs(y_true), K.epsilon(), None)))\n",
    "\n",
    "def accuracy(y_true, y_pred):\n",
    "    abs_diff = K.abs(y_true - y_pred)\n",
    "    threshold = 0.1 * y_true\n",
    "    accurate_predictions = K.less_equal(abs_diff, threshold)\n",
    "    accuracy = K.mean(accurate_predictions)\n",
    "    return accuracy\n",
    "\n",
    "#def lr_range_test(epoch, lr):\n",
    "    # Start with a very small learning rate and increase exponentially\n",
    "    return 10 ** (epoch / 20)  # Adjust the exponent as needed\n",
    "\n",
    "#def explained_variance(y_true, y_pred):\n",
    "    return 1 - K.var(y_true - y_pred) / K.var(y_true)\n",
    "\n",
    "lr_scheduler = LearningRateScheduler(lr_schedule)\n",
    "early_stopping = EarlyStopping(monitor='val_loss', patience=200, verbose=1, restore_best_weights=True)\n",
    "\n",
    "initial_lr = 1e-2\n",
    "sequence_length = 10\n",
    "input_sequences_reshaped = input_sequences.reshape(input_sequences.shape[0], input_sequences.shape[1], -1)\n",
    "\n",
    "model = Sequential()\n",
    "model.add(LSTM(units=91, input_shape=(sequence_length, 50 * 50 * 6)))\n",
    "model.add(Dense(units=100, activation='relu', kernel_regularizer=l2(0.01)))\n",
    "model.add(Dense(units=100, activation='relu', kernel_regularizer=l2(0.01)))\n",
    "model.add(Dense(units=50 * 50 * 6, activation='relu', kernel_regularizer=l2(0.01)))\n",
    "model.add(Reshape((50, 50, 6)))\n",
    "model.compile(optimizer=Adam(learning_rate=initial_lr), loss='mape', metrics=[r_squared, 'mse', accuracy, average_relative_rmse, average_relative_error, 'msle'])\n",
    "print(model.summary())\n",
    "\n",
    "history = model.fit(input_sequences_reshaped, output_values, epochs=1000, batch_size=100, validation_split=0.2, callbacks=[early_stopping, lr_scheduler])\n",
    "print(\"Training Loss:\", history.history['loss'])\n",
    "\n",
    "loss = model.evaluate(input_sequences_reshaped, output_values)\n",
    "print(\"Test Loss:\", loss)"
   ]
  },
  {
   "cell_type": "code",
   "execution_count": null,
   "metadata": {},
   "outputs": [],
   "source": [
    "def lr_schedule(epoch, lr):\n",
    "    if epoch < 100:\n",
    "        return 1e-2\n",
    "    if epoch < 500:\n",
    "        return 1e-3\n",
    "    else:\n",
    "        return 1e-4\n",
    "\n",
    "train_size = int(0.7 * len(input_sequences))\n",
    "val_size = int(0.1 * len(input_sequences))\n",
    "\n",
    "X_train, y_train = input_sequences[:train_size], output_values[:train_size]\n",
    "X_val, y_val = input_sequences[train_size:train_size+val_size], output_values[train_size:train_size+val_size]\n",
    "X_test, y_test = input_sequences[train_size+val_size:], output_values[train_size+val_size:]\n",
    "\n",
    "class TransformerBlock(layers.Layer):\n",
    "    def __init__(self, embed_dim, num_heads, ff_dim, rate=0.1):\n",
    "        super(TransformerBlock, self).__init__()\n",
    "        self.att = layers.MultiHeadAttention(num_heads=num_heads, key_dim=embed_dim)\n",
    "        self.ffn = models.Sequential([\n",
    "            layers.Dense(ff_dim, activation=\"relu\"),\n",
    "            layers.Dense(embed_dim),\n",
    "        ])\n",
    "        self.layernorm1 = layers.LayerNormalization(epsilon=1e-6)\n",
    "        self.layernorm2 = layers.LayerNormalization(epsilon=1e-6)\n",
    "        self.dropout1 = layers.Dropout(rate)\n",
    "        self.dropout2 = layers.Dropout(rate)\n",
    "\n",
    "    def call(self, inputs, training):\n",
    "        attn_output = self.att(inputs, inputs)\n",
    "        attn_output = self.dropout1(attn_output, training=training)\n",
    "        out1 = self.layernorm1(inputs + attn_output)\n",
    "        ffn_output = self.ffn(out1)\n",
    "        ffn_output = self.dropout2(ffn_output, training=training)\n",
    "        return self.layernorm2(out1 + ffn_output)\n",
    "\n",
    "class PositionalEncoding(layers.Layer):\n",
    "    def __init__(self, maxlen, embed_dim):\n",
    "        super(PositionalEncoding, self).__init__()\n",
    "        self.pos_emb = layers.Embedding(input_dim=maxlen, output_dim=embed_dim)\n",
    "\n",
    "    def call(self, x):\n",
    "        maxlen = tf.shape(x)[-2]\n",
    "        positions = tf.range(start=0, limit=maxlen, delta=1)\n",
    "        positions = self.pos_emb(positions)\n",
    "        return x + positions\n",
    "\n",
    "def build_transformer_model(input_shape, num_heads, ff_dim):\n",
    "    inputs = layers.Input(shape=input_shape)\n",
    "    x = layers.TimeDistributed(layers.Conv2D(8, (3, 3), padding='same', activation='relu'))(inputs)\n",
    "    x = layers.TimeDistributed(layers.MaxPooling2D((2, 2)))(x)\n",
    "    x = layers.TimeDistributed(layers.Conv2D(16, (3, 3), padding='same', activation='relu'))(x)\n",
    "    x = layers.TimeDistributed(layers.MaxPooling2D((2, 2)))(x)\n",
    "    \n",
    "    x = layers.Reshape((input_shape[0], -1))(x)\n",
    "    \n",
    "    embed_dim = x.shape[-1]\n",
    "    x = PositionalEncoding(input_shape[0], embed_dim)(x)\n",
    "    transformer_block = TransformerBlock(embed_dim, num_heads, ff_dim)\n",
    "    x = transformer_block(x)\n",
    "    \n",
    "    x = layers.GlobalAveragePooling1D()(x)\n",
    "    x = layers.Dense(50 * 50 * 6)(x)\n",
    "    outputs = layers.Reshape((50, 50, 6))(x)\n",
    "    \n",
    "    model = models.Model(inputs=inputs, outputs=outputs)\n",
    "    return model\n",
    "\n",
    "input_shape = (sequence_length, 50, 50, 6)\n",
    "num_heads = 2  \n",
    "ff_dim = 16    \n",
    "model = build_transformer_model(input_shape, num_heads, ff_dim)\n",
    "\n",
    "model.compile(optimizer='adam', loss='mse', metrics=[r_squared, 'mape', average_relative_rmse, 'msle', 'mae'])\n",
    "\n",
    "batch_size = 32\n",
    "lr_scheduler = LearningRateScheduler(lr_schedule)\n",
    "early_stopping = EarlyStopping(monitor='val_loss', patience=150, verbose=1, restore_best_weights=True)\n",
    "\n",
    "initial_lr = 1e-2\n",
    "\n",
    "history = model.fit(X_train, y_train, validation_data=(X_val, y_val), epochs=500, batch_size=batch_size, callbacks=[lr_scheduler, early_stopping])\n",
    "\n",
    "\n",
    "test_metrics = model.evaluate(X_test, y_test)\n",
    "print(f'Test Metrics: {test_metrics}')\n",
    "\n",
    "model.summary()"
   ]
  },
  {
   "cell_type": "code",
   "execution_count": null,
   "metadata": {},
   "outputs": [],
   "source": [
    "second_run = \"C:/Users/Ioannis/Documents/UvA thesis/UvA-thesis/data/test_data_concat/2nd run concat.csv\"\n",
    "data_v = pd.read_csv(second_run)\n",
    "data_v.drop(columns=['zCOM'], inplace=True)\n",
    "print(data_v.head())\n",
    "data_v['time'] = (data_v['mcsteps'] / 10000).astype(int)\n",
    "data_v = data_v[['time'] + [col for col in data_v.columns if col != 'time']]\n",
    "data_v.drop(columns=['mcsteps'], inplace=True)\n",
    "print(data_v)\n",
    "cytokine_columns_v = ['il8', 'il1', 'il6', 'il10', 'tnf', 'tgf']\n",
    "smallest_values_v = data_v[cytokine_columns_v].min()\n",
    "largest_values_v = data_v[cytokine_columns_v].max()\n",
    "\n",
    "print(\"Smallest values for each cytokine:\")\n",
    "print(smallest_values_v)\n",
    "print(\"\\nLargest values for each cytokine:\")\n",
    "print(largest_values_v)\n",
    "def replace_negative_with_zero(data_v):\n",
    "    num_negative_values_v = (data_v < 0).sum().sum()\n",
    "    data_v[data_v < 0] = 0\n",
    "\n",
    "    return num_negative_values_v\n",
    "\n",
    "cytokine_columns_v = ['il8', 'il1', 'il6', 'il10', 'tnf', 'tgf']\n",
    "\n",
    "for col in cytokine_columns_v:\n",
    "    num_negatives_v = replace_negative_with_zero(data_v[col])\n",
    "    print(f\"Number of negative values replaced with 0 in '{col}': {num_negatives_v}\")\n",
    "\n",
    "# define cytokines\n",
    "cytokines_v = ['il8', 'il1', 'il6', 'il10', 'tnf', 'tgf']\n",
    "\n",
    "# get unique time values\n",
    "unique_time_v = data_v['time'].unique()\n",
    "\n",
    "arrays_v = {}\n",
    "\n",
    "# iterate over unique time values\n",
    "for time in unique_time_v:\n",
    "    # filter data for current value of time\n",
    "    data_time_v = data_v[data_v['time'] == time]\n",
    "    \n",
    "    # initialize 50x50x6 array for current value of time\n",
    "    array_v = np.zeros((50, 50, len(cytokines)))\n",
    "    \n",
    "    # get X and Y coordinates\n",
    "    x = data_time_v['xCOM'].astype(int)\n",
    "    y = data_time_v['yCOM'].astype(int)\n",
    "    \n",
    "    # get cytokine concentrations\n",
    "    concentrations_v = data_time_v[['il8', 'il1', 'il6', 'il10', 'tnf', 'tgf']].values\n",
    "    \n",
    "    # assign cytokine concentrations to corresponding position in array\n",
    "    array_v[x, y, :] = concentrations_v\n",
    "    \n",
    "    # store array for current value of time\n",
    "    arrays_v[time] = array_v"
   ]
  },
  {
   "cell_type": "code",
   "execution_count": null,
   "metadata": {},
   "outputs": [],
   "source": [
    "print(\"Number of arrays:\", len(arrays_v))\n",
    "array_v = arrays_v[0]\n",
    "print(\"Shape of the array:\", array_v.shape)\n",
    "print(\"Value at position (0,13):\", array_v[13,21])"
   ]
  },
  {
   "cell_type": "code",
   "execution_count": null,
   "metadata": {},
   "outputs": [],
   "source": [
    "sequence_length = 10\n",
    "input_sequences_v = []\n",
    "output_values_v = []\n",
    "\n",
    "# convert dictionary values to a list of arrays\n",
    "arrays_list_v = [arrays_v[key] for key in sorted(arrays_v.keys())]\n",
    "\n",
    "# convert 'arrays' list to numpy array\n",
    "arrays_np_v = np.array(arrays_list_v)\n",
    "\n",
    "for i in range(len(arrays_np_v) - sequence_length):\n",
    "    input_seq_v = arrays_np_v[i:i+sequence_length]  # input sequence of arrays\n",
    "    output_val_v = arrays_np_v[i+sequence_length]   # array at next time step\n",
    "    \n",
    "    input_sequences_v.append(input_seq_v)\n",
    "    output_values_v.append(output_val_v)\n",
    "\n",
    "# convert lists to numpy arrays\n",
    "input_sequences_v = np.array(input_sequences_v)\n",
    "output_values_v = np.array(output_values_v)\n",
    "\n",
    "print(input_sequences_v.shape)\n",
    "print(output_values_v.shape)"
   ]
  },
  {
   "cell_type": "code",
   "execution_count": null,
   "metadata": {},
   "outputs": [],
   "source": [
    "third_run = \"C:/Users/Ioannis/Documents/UvA thesis/UvA-thesis/data/test_data_concat/3rd run concat.csv\"\n",
    "data_t = pd.read_csv(third_run)\n",
    "data_t.drop(columns=['zCOM'], inplace=True)\n",
    "print(data_t.head())\n",
    "data_t['time'] = (data_t['mcsteps'] / 10000).astype(int)\n",
    "data_t = data_t[['time'] + [col for col in data_t.columns if col != 'time']]\n",
    "data_t.drop(columns=['mcsteps'], inplace=True)\n",
    "print(data_t)\n",
    "cytokine_columns = ['il8', 'il1', 'il6', 'il10', 'tnf', 'tgf']\n",
    "smallest_values_t = data_t[cytokine_columns].min()\n",
    "largest_values_t = data_t[cytokine_columns].max()\n",
    "\n",
    "print(\"Smallest values for each cytokine:\")\n",
    "print(smallest_values_t)\n",
    "print(\"\\nLargest values for each cytokine:\")\n",
    "print(largest_values_t)\n",
    "def replace_negative_with_zero(data_t):\n",
    "    num_negative_values_t = (data_t < 0).sum().sum()\n",
    "    data_t[data_t < 0] = 0\n",
    "\n",
    "    return num_negative_values_t\n",
    "\n",
    "cytokine_columns = ['il8', 'il1', 'il6', 'il10', 'tnf', 'tgf']\n",
    "\n",
    "for col in cytokine_columns:\n",
    "    num_negatives_t = replace_negative_with_zero(data_t[col])\n",
    "    print(f\"Number of negative values replaced with 0 in '{col}': {num_negatives_t}\")\n",
    "\n",
    "# define cytokines\n",
    "cytokines = ['il8', 'il1', 'il6', 'il10', 'tnf', 'tgf']\n",
    "\n",
    "# get unique time values\n",
    "unique_time_t = data_t['time'].unique()\n",
    "\n",
    "arrays_t = {}\n",
    "\n",
    "# iterate over unique time values\n",
    "for time in unique_time_t:\n",
    "    # filter data for current value of time\n",
    "    data_time_t = data_t[data_t['time'] == time]\n",
    "    \n",
    "    # initialize 50x50x6 array for current value of time\n",
    "    array_t = np.zeros((50, 50, len(cytokines)))\n",
    "    \n",
    "    # get X and Y coordinates\n",
    "    x = data_time_t['xCOM'].astype(int)\n",
    "    y = data_time_t['yCOM'].astype(int)\n",
    "    \n",
    "    # get cytokine concentrations\n",
    "    concentrations_t = data_time_t[['il8', 'il1', 'il6', 'il10', 'tnf', 'tgf']].values\n",
    "    \n",
    "    # assign cytokine concentrations to corresponding position in array\n",
    "    array_t[x, y, :] = concentrations_t\n",
    "    \n",
    "    # store array for current value of time\n",
    "    arrays_t[time] = array_t"
   ]
  }
 ],
 "metadata": {
  "kernelspec": {
   "display_name": "Python 3",
   "language": "python",
   "name": "python3"
  },
  "language_info": {
   "codemirror_mode": {
    "name": "ipython",
    "version": 3
   },
   "file_extension": ".py",
   "mimetype": "text/x-python",
   "name": "python",
   "nbconvert_exporter": "python",
   "pygments_lexer": "ipython3",
   "version": "3.8.0"
  }
 },
 "nbformat": 4,
 "nbformat_minor": 2
}

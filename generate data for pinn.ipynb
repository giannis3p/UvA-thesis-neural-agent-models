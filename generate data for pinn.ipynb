{
 "cells": [
  {
   "cell_type": "code",
   "execution_count": 1,
   "metadata": {},
   "outputs": [],
   "source": [
    "import tensorflow as tf\n",
    "import pandas as pd\n",
    "import numpy as np\n",
    "import os\n",
    "import csv\n",
    "import math\n",
    "import matplotlib.pyplot as plt\n",
    "from datetime import datetime"
   ]
  },
  {
   "cell_type": "code",
   "execution_count": 10,
   "metadata": {},
   "outputs": [
    {
     "name": "stdout",
     "output_type": "stream",
     "text": [
      "   mcsteps  xCOM  yCOM           il8  il1  il6  il10  tnf  tgf\n",
      "0        0    33    22  3.750408e-07  0.0  0.0   0.0  0.0  0.0\n",
      "1        0    11    32  4.793328e-09  0.0  0.0   0.0  0.0  0.0\n",
      "2        0    30    35  8.997935e-09  0.0  0.0   0.0  0.0  0.0\n",
      "3        0    17    40  1.781103e-08  0.0  0.0   0.0  0.0  0.0\n",
      "4        0    21    23  4.789621e-09  0.0  0.0   0.0  0.0  0.0\n"
     ]
    }
   ],
   "source": [
    "sorted_concatenated_csv = \"C:/Users/Ioannis/Documents/UvA thesis/UvA-thesis/data/test_data_concat/sorted_concatenated_data.csv\"\n",
    "data = pd.read_csv(sorted_concatenated_csv)\n",
    "data.drop(columns=['zCOM'], inplace=True)\n",
    "print(data.head())"
   ]
  },
  {
   "cell_type": "code",
   "execution_count": 11,
   "metadata": {},
   "outputs": [
    {
     "name": "stdout",
     "output_type": "stream",
     "text": [
      "       time  xCOM  yCOM           il8           il1           il6  \\\n",
      "0         0    33    22  3.750408e-07  0.000000e+00  0.000000e+00   \n",
      "1         0    11    32  4.793328e-09  0.000000e+00  0.000000e+00   \n",
      "2         0    30    35  8.997935e-09  0.000000e+00  0.000000e+00   \n",
      "3         0    17    40  1.781103e-08  0.000000e+00  0.000000e+00   \n",
      "4         0    21    23  4.789621e-09  0.000000e+00  0.000000e+00   \n",
      "...     ...   ...   ...           ...           ...           ...   \n",
      "86155   100    49    35 -8.886183e-11  6.343394e-10  1.206925e-08   \n",
      "86156   100    36     4  1.334245e-07  1.665160e-07  1.305691e-08   \n",
      "86157   100    49    44 -1.233990e-10  1.178848e-09  1.615457e-07   \n",
      "86158   100    45    10  3.257988e-07  4.403049e-08  1.749928e-07   \n",
      "86159   100    35    38  2.107191e-05  9.170692e-08  5.693712e-19   \n",
      "\n",
      "               il10           tnf           tgf  \n",
      "0      0.000000e+00  0.000000e+00  0.000000e+00  \n",
      "1      0.000000e+00  0.000000e+00  0.000000e+00  \n",
      "2      0.000000e+00  0.000000e+00  0.000000e+00  \n",
      "3      0.000000e+00  0.000000e+00  0.000000e+00  \n",
      "4      0.000000e+00  0.000000e+00  0.000000e+00  \n",
      "...             ...           ...           ...  \n",
      "86155  3.819835e-10  1.979543e-10  4.400244e-06  \n",
      "86156  4.469681e-10  3.720676e-07  7.833499e-06  \n",
      "86157  3.270504e-08  9.659641e-08  6.022260e-06  \n",
      "86158  3.550616e-08  1.001522e-07  6.226569e-06  \n",
      "86159  5.103635e-25  4.620498e-09  2.838544e-12  \n",
      "\n",
      "[86160 rows x 9 columns]\n"
     ]
    }
   ],
   "source": [
    "data['time'] = (data['mcsteps'] / 10000).astype(int)\n",
    "data = data[['time'] + [col for col in data.columns if col != 'time']]\n",
    "data.drop(columns=['mcsteps'], inplace=True)\n",
    "print(data)"
   ]
  },
  {
   "cell_type": "code",
   "execution_count": 12,
   "metadata": {},
   "outputs": [
    {
     "name": "stdout",
     "output_type": "stream",
     "text": [
      "Number of negative values replaced with 0 in 'il8': 7147\n",
      "Number of negative values replaced with 0 in 'il1': 0\n",
      "Number of negative values replaced with 0 in 'il6': 0\n",
      "Number of negative values replaced with 0 in 'il10': 0\n",
      "Number of negative values replaced with 0 in 'tnf': 0\n",
      "Number of negative values replaced with 0 in 'tgf': 0\n"
     ]
    },
    {
     "name": "stderr",
     "output_type": "stream",
     "text": [
      "C:\\Users\\Ioannis\\AppData\\Local\\Temp\\ipykernel_19120\\3859886154.py:3: SettingWithCopyWarning: \n",
      "A value is trying to be set on a copy of a slice from a DataFrame\n",
      "\n",
      "See the caveats in the documentation: https://pandas.pydata.org/pandas-docs/stable/user_guide/indexing.html#returning-a-view-versus-a-copy\n",
      "  data[data < 0] = 0\n",
      "C:\\Users\\Ioannis\\AppData\\Local\\Temp\\ipykernel_19120\\3859886154.py:3: SettingWithCopyWarning: \n",
      "A value is trying to be set on a copy of a slice from a DataFrame\n",
      "\n",
      "See the caveats in the documentation: https://pandas.pydata.org/pandas-docs/stable/user_guide/indexing.html#returning-a-view-versus-a-copy\n",
      "  data[data < 0] = 0\n",
      "C:\\Users\\Ioannis\\AppData\\Local\\Temp\\ipykernel_19120\\3859886154.py:3: SettingWithCopyWarning: \n",
      "A value is trying to be set on a copy of a slice from a DataFrame\n",
      "\n",
      "See the caveats in the documentation: https://pandas.pydata.org/pandas-docs/stable/user_guide/indexing.html#returning-a-view-versus-a-copy\n",
      "  data[data < 0] = 0\n",
      "C:\\Users\\Ioannis\\AppData\\Local\\Temp\\ipykernel_19120\\3859886154.py:3: SettingWithCopyWarning: \n",
      "A value is trying to be set on a copy of a slice from a DataFrame\n",
      "\n",
      "See the caveats in the documentation: https://pandas.pydata.org/pandas-docs/stable/user_guide/indexing.html#returning-a-view-versus-a-copy\n",
      "  data[data < 0] = 0\n",
      "C:\\Users\\Ioannis\\AppData\\Local\\Temp\\ipykernel_19120\\3859886154.py:3: SettingWithCopyWarning: \n",
      "A value is trying to be set on a copy of a slice from a DataFrame\n",
      "\n",
      "See the caveats in the documentation: https://pandas.pydata.org/pandas-docs/stable/user_guide/indexing.html#returning-a-view-versus-a-copy\n",
      "  data[data < 0] = 0\n",
      "C:\\Users\\Ioannis\\AppData\\Local\\Temp\\ipykernel_19120\\3859886154.py:3: SettingWithCopyWarning: \n",
      "A value is trying to be set on a copy of a slice from a DataFrame\n",
      "\n",
      "See the caveats in the documentation: https://pandas.pydata.org/pandas-docs/stable/user_guide/indexing.html#returning-a-view-versus-a-copy\n",
      "  data[data < 0] = 0\n"
     ]
    }
   ],
   "source": [
    "def replace_negative_with_zero(data):\n",
    "    num_negative_values = (data < 0).sum().sum()\n",
    "    data[data < 0] = 0\n",
    "\n",
    "    return num_negative_values\n",
    "\n",
    "cytokine_columns = ['il8', 'il1', 'il6', 'il10', 'tnf', 'tgf']\n",
    "\n",
    "for col in cytokine_columns:\n",
    "    num_negatives = replace_negative_with_zero(data[col])\n",
    "    print(f\"Number of negative values replaced with 0 in '{col}': {num_negatives}\")"
   ]
  },
  {
   "cell_type": "code",
   "execution_count": null,
   "metadata": {},
   "outputs": [],
   "source": [
    "columns_to_drop = ['il1', 'il6', 'il10', 'tnf', 'tgf']\n",
    "\n",
    "data = data.drop(columns=columns_to_drop)\n",
    "print(data)\n",
    "\n",
    "data.to_csv('il8.csv', index=False)"
   ]
  },
  {
   "cell_type": "code",
   "execution_count": null,
   "metadata": {},
   "outputs": [],
   "source": []
  }
 ],
 "metadata": {
  "kernelspec": {
   "display_name": "Python 3",
   "language": "python",
   "name": "python3"
  },
  "language_info": {
   "codemirror_mode": {
    "name": "ipython",
    "version": 3
   },
   "file_extension": ".py",
   "mimetype": "text/x-python",
   "name": "python",
   "nbconvert_exporter": "python",
   "pygments_lexer": "ipython3",
   "version": "3.8.0"
  }
 },
 "nbformat": 4,
 "nbformat_minor": 2
}
